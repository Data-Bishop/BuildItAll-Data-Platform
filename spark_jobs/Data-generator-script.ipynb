{
 "cells": [
  {
   "cell_type": "code",
   "execution_count": 14,
   "id": "4eb0c510",
   "metadata": {},
   "outputs": [],
   "source": [
    "#import libraries\n",
    "import pandas as pd\n",
    "from faker import Faker\n",
    "\n",
    "import random\n",
    "from datetime import datetime"
   ]
  },
  {
   "cell_type": "code",
   "execution_count": 4,
   "id": "4365da2f",
   "metadata": {},
   "outputs": [],
   "source": [
    "#Initialize faker and increase the seed for reproducibility\n",
    "\n",
    "fake = Faker()\n",
    "Faker.seed(42)"
   ]
  },
  {
   "cell_type": "code",
   "execution_count": 6,
   "id": "391b527e",
   "metadata": {},
   "outputs": [],
   "source": [
    "def generate_customers(n=500_000):\n",
    "    \"\"\"To generate 500,000 customers\"\"\"\n",
    "    data = [{\n",
    "        \"customer_id\": i,\n",
    "        \"name\": fake.name(),\n",
    "        \"email\": fake.email(),\n",
    "        \"signup_date\": fake.date_between(start_date='-3y', end_date='today')\n",
    "    } for i in range(1, n+1)]\n",
    "    df = pd.DataFrame(data)\n",
    "    return df"
   ]
  },
  {
   "cell_type": "code",
   "execution_count": 7,
   "id": "9b9e4f12",
   "metadata": {},
   "outputs": [],
   "source": [
    "def generate_products(n=800_000):\n",
    "    \"\"\"To generate 800,000 products 'listed' \n",
    "    on the website in different categories\"\"\"\n",
    "    \n",
    "    categories = ['Electronics','Jewelry','Shoes', 'Clothing', 'Tools', 'Books', 'Toys']\n",
    "    data = [{\n",
    "        \"product_id\": i,\n",
    "        \"name\": fake.word().capitalize() + \" \" + fake.word().capitalize(),\n",
    "        \"category\": random.choice(categories),\n",
    "        \"price\": round(random.uniform(5.0, 500.0), 2)\n",
    "    } for i in range(1, n+1)]\n",
    "    df = pd.DataFrame(data)\n",
    "    return df"
   ]
  },
  {
   "cell_type": "code",
   "execution_count": 8,
   "id": "629849d0",
   "metadata": {},
   "outputs": [],
   "source": [
    "def generate_orders(n=1_300_000, customer_count=500_000):\n",
    "    \"\"\"To generate 1.3M order transactions for our 500,000 customers\"\"\"\n",
    "    \n",
    "    data = [{\n",
    "        \"order_id\": i,\n",
    "        \"customer_id\": random.randint(1, customer_count),\n",
    "        \"order_date\": fake.date_between(start_date='-2y', end_date='today'),\n",
    "        \"total\": round(random.uniform(20.0, 1000.0), 2)\n",
    "    } for i in range(1, n+1)]\n",
    "    df = pd.DataFrame(data)\n",
    "    return df"
   ]
  },
  {
   "cell_type": "code",
   "execution_count": 9,
   "id": "eb25118a",
   "metadata": {},
   "outputs": [],
   "source": [
    "def generate_order_items(n=1_000_000, order_count=1_300_000, product_count=800_000):\n",
    "    \"\"\"To generate 1M order_items which would give details on order transactions on our listed products\"\"\"\n",
    "    \n",
    "    data = [{\n",
    "        \"order_id\": random.randint(1, order_count),\n",
    "        \"product_id\": random.randint(1, product_count),\n",
    "        \"quantity\": random.randint(1, 5),\n",
    "        \"price\": round(random.uniform(5.0, 300.0), 2)\n",
    "    } for _ in range(n)]\n",
    "    df = pd.DataFrame(data)\n",
    "    return df"
   ]
  },
  {
   "cell_type": "code",
   "execution_count": 11,
   "id": "4bd65e36",
   "metadata": {},
   "outputs": [],
   "source": [
    "def generate_payments(n=1_500_000, order_count=1_300_000):\n",
    "    \"\"\"To generate 1.5M payment transactions details for our 1.3M order transactions\"\"\"\n",
    "    \n",
    "    methods = ['card', 'bank', 'transfer', 'cash_on_delivery','opay']\n",
    "    statuses = ['completed', 'pending', 'failed']\n",
    "    data = [{\n",
    "        \"payment_id\": i,\n",
    "        \"order_id\": random.randint(1, order_count),\n",
    "        \"method\": random.choice(methods),\n",
    "        \"status\": random.choice(statuses),\n",
    "        \"timestamp\": fake.date_time_between(start_date='-2y', end_date='now')\n",
    "    } for i in range(1, n+1)]\n",
    "    df = pd.DataFrame(data)\n",
    "    return df"
   ]
  },
  {
   "cell_type": "code",
   "execution_count": 12,
   "id": "42af807a",
   "metadata": {},
   "outputs": [],
   "source": [
    "if __name__ == \"__main__\":\n",
    "    customers = generate_customers()\n",
    "    products = generate_products()\n",
    "    orders = generate_orders()\n",
    "    order_items = generate_order_items()\n",
    "    payments = generate_payments()"
   ]
  }
 ],
 "metadata": {
  "kernelspec": {
   "display_name": "Python 3 (ipykernel)",
   "language": "python",
   "name": "python3"
  },
  "language_info": {
   "codemirror_mode": {
    "name": "ipython",
    "version": 3
   },
   "file_extension": ".py",
   "mimetype": "text/x-python",
   "name": "python",
   "nbconvert_exporter": "python",
   "pygments_lexer": "ipython3",
   "version": "3.11.5"
  }
 },
 "nbformat": 4,
 "nbformat_minor": 5
}
